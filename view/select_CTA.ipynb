{
 "cells": [
  {
   "cell_type": "code",
   "execution_count": null,
   "id": "85ef603e",
   "metadata": {},
   "outputs": [],
   "source": [
    "%matplotlib inline\n",
    "import os\n",
    "import pandas as pd\n",
    "os.chdir ('/PHShome/yc703/Documents/postICH/')\n",
    "import view.visual_select as VS\n",
    "import data_raw.CTname as CTN\n",
    "root_dir='/data/rosanderson/is_ct/processed/registered/'"
   ]
  },
  {
   "cell_type": "code",
   "execution_count": null,
   "id": "5d995cd6",
   "metadata": {
    "lines_to_next_cell": 2
   },
   "outputs": [],
   "source": [
    "imgID = pd.read_csv ('data/tmp_images/missing_reg_trim.txt', header=False)\n",
    "img = DTN.load_nib (root_dir+imgID['V1'].iloc[0])\n",
    "print (imgID['V1'].iloc[0])\n",
    "print (img.max())\n",
    "VS.show_levels (img)"
   ]
  }
 ],
 "metadata": {
  "jupytext": {
   "cell_metadata_filter": "-all",
   "main_language": "python",
   "notebook_metadata_filter": "-all"
  }
 },
 "nbformat": 4,
 "nbformat_minor": 5
}
