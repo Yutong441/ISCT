{
 "cells": [
  {
   "cell_type": "code",
   "execution_count": null,
   "id": "17fb907e",
   "metadata": {},
   "outputs": [],
   "source": [
    "# disambiguate a list of CT scans from a given patient\n",
    "%matplotlib inline\n",
    "import os\n",
    "import IPython\n",
    "os.chdir ('/PHShome/yc703/Documents/postICH')\n",
    "import visual_select as VS\n",
    "filename='data/original_labels/dicom_dup.csv'\n",
    "save_path='data/original_labels/dicom_disamb.csv'\n",
    "os.environ['PATH']=os.environ['PATH']+':/PHShome/yc703/.conda/envs/postICH/bin'"
   ]
  },
  {
   "cell_type": "code",
   "execution_count": null,
   "id": "f456730d",
   "metadata": {},
   "outputs": [],
   "source": [
    "VS.multi_imshow_widget (df_path=filename, save_path= save_path,\n",
    "        disp=IPython.display.display)"
   ]
  }
 ],
 "metadata": {
  "jupytext": {
   "cell_metadata_filter": "-all",
   "main_language": "python",
   "notebook_metadata_filter": "-all"
  }
 },
 "nbformat": 4,
 "nbformat_minor": 5
}
