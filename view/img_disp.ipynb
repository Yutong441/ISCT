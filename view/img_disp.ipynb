{
 "cells": [
  {
   "cell_type": "code",
   "execution_count": null,
   "id": "e3598202",
   "metadata": {},
   "outputs": [],
   "source": [
    "%matplotlib inline\n",
    "import os\n",
    "os.chdir ('/PHShome/yc703/Documents/postICH/')\n",
    "import view.visual_select as VS\n",
    "import data_raw.CTname as CTN\n",
    "df_path = 'data/original_labels/dicom_path.csv'"
   ]
  },
  {
   "cell_type": "code",
   "execution_count": null,
   "id": "ebcf42e4",
   "metadata": {},
   "outputs": [],
   "source": [
    "imgID = 'MGH062'\n",
    "img = DTN.load_nib ('data/tmp_images/'+imgID+'.nii.gz')\n",
    "print (img.shape)\n",
    "VS.show_levels (img)"
   ]
  },
  {
   "cell_type": "code",
   "execution_count": null,
   "id": "168162f9",
   "metadata": {},
   "outputs": [],
   "source": [
    "VS.show_ori_dcm (imgID, df_path)"
   ]
  }
 ],
 "metadata": {
  "jupytext": {
   "cell_metadata_filter": "-all",
   "main_language": "python",
   "notebook_metadata_filter": "-all"
  }
 },
 "nbformat": 4,
 "nbformat_minor": 5
}
